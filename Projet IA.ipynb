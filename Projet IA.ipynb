{
 "cells": [
  {
   "cell_type": "code",
   "execution_count": 27,
   "id": "1e5c3cfc",
   "metadata": {},
   "outputs": [
    {
     "data": {
      "text/html": [
       "<div>\n",
       "<style scoped>\n",
       "    .dataframe tbody tr th:only-of-type {\n",
       "        vertical-align: middle;\n",
       "    }\n",
       "\n",
       "    .dataframe tbody tr th {\n",
       "        vertical-align: top;\n",
       "    }\n",
       "\n",
       "    .dataframe thead th {\n",
       "        text-align: right;\n",
       "    }\n",
       "</style>\n",
       "<table border=\"1\" class=\"dataframe\">\n",
       "  <thead>\n",
       "    <tr style=\"text-align: right;\">\n",
       "      <th></th>\n",
       "      <th>player_id</th>\n",
       "      <th>name</th>\n",
       "      <th>nationality</th>\n",
       "      <th>position</th>\n",
       "      <th>overall</th>\n",
       "      <th>age</th>\n",
       "      <th>hits</th>\n",
       "      <th>potential</th>\n",
       "      <th>team</th>\n",
       "    </tr>\n",
       "  </thead>\n",
       "  <tbody>\n",
       "    <tr>\n",
       "      <th>0</th>\n",
       "      <td>158023</td>\n",
       "      <td>Lionel Messi</td>\n",
       "      <td>Argentina</td>\n",
       "      <td>ST|CF|RW</td>\n",
       "      <td>94</td>\n",
       "      <td>33</td>\n",
       "      <td>299</td>\n",
       "      <td>94</td>\n",
       "      <td>FC Barcelona</td>\n",
       "    </tr>\n",
       "    <tr>\n",
       "      <th>1</th>\n",
       "      <td>20801</td>\n",
       "      <td>Cristiano Ronaldo</td>\n",
       "      <td>Portugal</td>\n",
       "      <td>ST|LW</td>\n",
       "      <td>93</td>\n",
       "      <td>35</td>\n",
       "      <td>276</td>\n",
       "      <td>93</td>\n",
       "      <td>Juventus</td>\n",
       "    </tr>\n",
       "    <tr>\n",
       "      <th>2</th>\n",
       "      <td>190871</td>\n",
       "      <td>Neymar Jr</td>\n",
       "      <td>Brazil</td>\n",
       "      <td>CAM|LW</td>\n",
       "      <td>92</td>\n",
       "      <td>28</td>\n",
       "      <td>186</td>\n",
       "      <td>92</td>\n",
       "      <td>Paris Saint-Germain</td>\n",
       "    </tr>\n",
       "    <tr>\n",
       "      <th>3</th>\n",
       "      <td>203376</td>\n",
       "      <td>Virgil van Dijk</td>\n",
       "      <td>Netherlands</td>\n",
       "      <td>CB</td>\n",
       "      <td>91</td>\n",
       "      <td>29</td>\n",
       "      <td>127</td>\n",
       "      <td>92</td>\n",
       "      <td>Liverpool</td>\n",
       "    </tr>\n",
       "    <tr>\n",
       "      <th>4</th>\n",
       "      <td>200389</td>\n",
       "      <td>Jan Oblak</td>\n",
       "      <td>Slovenia</td>\n",
       "      <td>GK</td>\n",
       "      <td>91</td>\n",
       "      <td>27</td>\n",
       "      <td>47</td>\n",
       "      <td>93</td>\n",
       "      <td>Atlético Madrid</td>\n",
       "    </tr>\n",
       "  </tbody>\n",
       "</table>\n",
       "</div>"
      ],
      "text/plain": [
       "   player_id               name  nationality  position  overall  age  hits  \\\n",
       "0     158023       Lionel Messi    Argentina  ST|CF|RW       94   33   299   \n",
       "1      20801  Cristiano Ronaldo     Portugal     ST|LW       93   35   276   \n",
       "2     190871          Neymar Jr       Brazil    CAM|LW       92   28   186   \n",
       "3     203376    Virgil van Dijk  Netherlands        CB       91   29   127   \n",
       "4     200389          Jan Oblak     Slovenia        GK       91   27    47   \n",
       "\n",
       "   potential                  team  \n",
       "0         94         FC Barcelona   \n",
       "1         93             Juventus   \n",
       "2         92  Paris Saint-Germain   \n",
       "3         92            Liverpool   \n",
       "4         93      Atlético Madrid   "
      ]
     },
     "execution_count": 27,
     "metadata": {},
     "output_type": "execute_result"
    }
   ],
   "source": [
    "import numpy as np\n",
    "import matplotlib.pyplot as plt\n",
    "import pandas as pd\n",
    "# lecture du dataset\n",
    "df=pd.read_csv('FIFA-21 Complete.csv',sep=\";\")\n",
    "df.head()"
   ]
  },
  {
   "cell_type": "code",
   "execution_count": 28,
   "id": "c69babd4",
   "metadata": {},
   "outputs": [
    {
     "data": {
      "text/plain": [
       "player_id      0\n",
       "name           0\n",
       "nationality    0\n",
       "position       0\n",
       "overall        0\n",
       "age            0\n",
       "hits           0\n",
       "potential      0\n",
       "team           0\n",
       "dtype: int64"
      ]
     },
     "execution_count": 28,
     "metadata": {},
     "output_type": "execute_result"
    }
   ],
   "source": [
    "# recherche de valeurs manquantes\n",
    "df.isnull().sum()"
   ]
  },
  {
   "cell_type": "raw",
   "id": "0bee9889",
   "metadata": {},
   "source": [
    "On essaie de predire le potentiel de chaque joueur.\n",
    "puisque les donnees de sorties sont numeriques alors on applique la regression"
   ]
  },
  {
   "cell_type": "code",
   "execution_count": 29,
   "id": "7a56caa4",
   "metadata": {},
   "outputs": [
    {
     "data": {
      "text/html": [
       "<div>\n",
       "<style scoped>\n",
       "    .dataframe tbody tr th:only-of-type {\n",
       "        vertical-align: middle;\n",
       "    }\n",
       "\n",
       "    .dataframe tbody tr th {\n",
       "        vertical-align: top;\n",
       "    }\n",
       "\n",
       "    .dataframe thead th {\n",
       "        text-align: right;\n",
       "    }\n",
       "</style>\n",
       "<table border=\"1\" class=\"dataframe\">\n",
       "  <thead>\n",
       "    <tr style=\"text-align: right;\">\n",
       "      <th></th>\n",
       "      <th>player_id</th>\n",
       "      <th>overall</th>\n",
       "      <th>age</th>\n",
       "      <th>hits</th>\n",
       "      <th>potential</th>\n",
       "    </tr>\n",
       "  </thead>\n",
       "  <tbody>\n",
       "    <tr>\n",
       "      <th>player_id</th>\n",
       "      <td>1.000000</td>\n",
       "      <td>-0.392988</td>\n",
       "      <td>-0.726628</td>\n",
       "      <td>-0.043335</td>\n",
       "      <td>0.098938</td>\n",
       "    </tr>\n",
       "    <tr>\n",
       "      <th>overall</th>\n",
       "      <td>-0.392988</td>\n",
       "      <td>1.000000</td>\n",
       "      <td>0.341995</td>\n",
       "      <td>0.378900</td>\n",
       "      <td>0.638915</td>\n",
       "    </tr>\n",
       "    <tr>\n",
       "      <th>age</th>\n",
       "      <td>-0.726628</td>\n",
       "      <td>0.341995</td>\n",
       "      <td>1.000000</td>\n",
       "      <td>-0.073467</td>\n",
       "      <td>-0.374716</td>\n",
       "    </tr>\n",
       "    <tr>\n",
       "      <th>hits</th>\n",
       "      <td>-0.043335</td>\n",
       "      <td>0.378900</td>\n",
       "      <td>-0.073467</td>\n",
       "      <td>1.000000</td>\n",
       "      <td>0.429509</td>\n",
       "    </tr>\n",
       "    <tr>\n",
       "      <th>potential</th>\n",
       "      <td>0.098938</td>\n",
       "      <td>0.638915</td>\n",
       "      <td>-0.374716</td>\n",
       "      <td>0.429509</td>\n",
       "      <td>1.000000</td>\n",
       "    </tr>\n",
       "  </tbody>\n",
       "</table>\n",
       "</div>"
      ],
      "text/plain": [
       "           player_id   overall       age      hits  potential\n",
       "player_id   1.000000 -0.392988 -0.726628 -0.043335   0.098938\n",
       "overall    -0.392988  1.000000  0.341995  0.378900   0.638915\n",
       "age        -0.726628  0.341995  1.000000 -0.073467  -0.374716\n",
       "hits       -0.043335  0.378900 -0.073467  1.000000   0.429509\n",
       "potential   0.098938  0.638915 -0.374716  0.429509   1.000000"
      ]
     },
     "execution_count": 29,
     "metadata": {},
     "output_type": "execute_result"
    }
   ],
   "source": [
    "# On cherche la correlation entre les elements\n",
    "df.corr()"
   ]
  },
  {
   "cell_type": "code",
   "execution_count": 30,
   "id": "2c32c343",
   "metadata": {},
   "outputs": [],
   "source": [
    "from sklearn.linear_model import LinearRegression\n",
    "from sklearn.metrics import mean_squared_error\n",
    "from sklearn import metrics\n",
    "from sklearn.model_selection import train_test_split\n"
   ]
  },
  {
   "cell_type": "code",
   "execution_count": 31,
   "id": "e5f82115",
   "metadata": {},
   "outputs": [
    {
     "name": "stdout",
     "output_type": "stream",
     "text": [
      "x_train: (14384, 3)\n",
      "y_train: (14384,)\n",
      "x_test: (3597, 3)\n",
      "y_test: (3597,)\n"
     ]
    }
   ],
   "source": [
    "# Séparons nos donnees en donnees d'entrainement et de test\n",
    "x=df[['overall','age','hits']]\n",
    "y=df['potential']\n",
    "x_train,x_test,y_train,y_test=train_test_split(x,y,test_size=0.2,random_state=30)\n",
    "print('x_train:',x_train.shape)\n",
    "print('y_train:',y_train.shape)\n",
    "print('x_test:',x_test.shape)\n",
    "print('y_test:',y_test.shape)\n"
   ]
  },
  {
   "cell_type": "code",
   "execution_count": 32,
   "id": "f0d9c5a8",
   "metadata": {},
   "outputs": [
    {
     "name": "stdout",
     "output_type": "stream",
     "text": [
      "MSE 6.601820803044326\n",
      "R squared 0.8172258120500254\n"
     ]
    }
   ],
   "source": [
    "# application de la regression lineaire\n",
    "model=LinearRegression()\n",
    "model.fit(x_train,y_train)\n",
    "# mesurons la performance\n",
    "predicted=model.predict(x_test)\n",
    "\n",
    "print(\"MSE\",mean_squared_error(y_test,predicted))\n",
    "print(\"R squared\",metrics.r2_score(y_test,predicted))"
   ]
  },
  {
   "cell_type": "raw",
   "id": "27aae34d",
   "metadata": {},
   "source": [
    "On a un score de 81% et une erreur moyenne au carre de 6,6 pour la regression lineaire multiple"
   ]
  },
  {
   "cell_type": "code",
   "execution_count": 33,
   "id": "dba4e401",
   "metadata": {
    "scrolled": true
   },
   "outputs": [
    {
     "data": {
      "text/plain": [
       "<matplotlib.collections.PathCollection at 0x29cbef92160>"
      ]
     },
     "execution_count": 33,
     "metadata": {},
     "output_type": "execute_result"
    },
    {
     "data": {
      "image/png": "[encoded data removed]",
      "text/plain": [
       "<Figure size 432x288 with 1 Axes>"
      ]
     },
     "metadata": {
      "needs_background": "light"
     },
     "output_type": "display_data"
    }
   ],
   "source": [
    "# representation graphique\n",
    "plt.figure(2)\n",
    "plt.scatter(y_test,x_test.iloc[:,0].values,color='r')\n"
   ]
  },
  {
   "cell_type": "code",
   "execution_count": 34,
   "id": "fb3814d2",
   "metadata": {},
   "outputs": [
    {
     "name": "stdout",
     "output_type": "stream",
     "text": [
      "MSE: 3.072831824549321\n",
      "R squared: 0.9149273574375342\n"
     ]
    }
   ],
   "source": [
    "# pour la regression polynomiale\n",
    "from sklearn.preprocessing import PolynomialFeatures\n",
    "\n",
    "# creation du polynome de degre 3\n",
    "poly = PolynomialFeatures(degree=3)\n",
    "# on l'applique a notre modele\n",
    "x_train_ = poly.fit_transform(x_train)\n",
    "model.fit(x_train_,y_train)\n",
    "x_test_ = poly.fit_transform(x_test)\n",
    "predicted = model.predict(x_test_)\n",
    "\n",
    "# mesurons la performance\n",
    "print(\"MSE:\",metrics.mean_squared_error(y_test,predicted))\n",
    "print(\"R squared:\",metrics.r2_score(y_test,predicted))"
   ]
  },
  {
   "cell_type": "raw",
   "id": "8c7deda8",
   "metadata": {},
   "source": [
    "On a une perforfance de 91% donc ce model est plus performant que la regression multiple.\n",
    "Pour la suite on utilisera la regression polynomiale"
   ]
  },
  {
   "cell_type": "code",
   "execution_count": null,
   "id": "f4d131c4",
   "metadata": {},
   "outputs": [],
   "source": []
  }
 ],
 "metadata": {
  "kernelspec": {
   "display_name": "Python 3 (ipykernel)",
   "language": "python",
   "name": "python3"
  },
  "language_info": {
   "codemirror_mode": {
    "name": "ipython",
    "version": 3
   },
   "file_extension": ".py",
   "mimetype": "text/x-python",
   "name": "python",
   "nbconvert_exporter": "python",
   "pygments_lexer": "ipython3",
   "version": "3.9.7"
  }
 },
 "nbformat": 4,
 "nbformat_minor": 5
}
